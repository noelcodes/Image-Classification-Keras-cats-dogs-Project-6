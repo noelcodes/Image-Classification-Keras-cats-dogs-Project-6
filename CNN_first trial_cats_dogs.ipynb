{
 "cells": [
  {
   "cell_type": "code",
   "execution_count": 1,
   "metadata": {},
   "outputs": [
    {
     "name": "stderr",
     "output_type": "stream",
     "text": [
      "C:\\Users\\default.LAPTOP-2CI68M4P\\AppData\\Local\\Continuum\\anaconda2\\envs\\py35\\lib\\site-packages\\h5py\\__init__.py:36: FutureWarning: Conversion of the second argument of issubdtype from `float` to `np.floating` is deprecated. In future, it will be treated as `np.float64 == np.dtype(float).type`.\n",
      "  from ._conv import register_converters as _register_converters\n",
      "Using TensorFlow backend.\n"
     ]
    }
   ],
   "source": [
    "# Convolutional Neural Network\n",
    "\n",
    "# Installing Theano\n",
    "# pip install --upgrade --no-deps git+git://github.com/Theano/Theano.git\n",
    "\n",
    "# Installing Tensorflow\n",
    "# Install Tensorflow from the website: https://www.tensorflow.org/versions/r0.12/get_started/os_setup.html\n",
    "\n",
    "# Installing Keras\n",
    "# pip install --upgrade keras\n",
    "\n",
    "# Part 1 - Building the CNN\n",
    "\n",
    "# Importing the Keras libraries and packages\n",
    "from keras.models import Sequential\n",
    "from keras.layers import Convolution2D\n",
    "from keras.layers import MaxPooling2D\n",
    "from keras.layers import Flatten\n",
    "from keras.layers import Dense"
   ]
  },
  {
   "cell_type": "code",
   "execution_count": 2,
   "metadata": {},
   "outputs": [],
   "source": [
    "# Initialising the CNN\n",
    "classifier = Sequential()"
   ]
  },
  {
   "cell_type": "code",
   "execution_count": 3,
   "metadata": {},
   "outputs": [
    {
     "name": "stderr",
     "output_type": "stream",
     "text": [
      "C:\\Users\\default.LAPTOP-2CI68M4P\\AppData\\Local\\Continuum\\anaconda2\\envs\\py35\\lib\\site-packages\\ipykernel_launcher.py:2: UserWarning: Update your `Conv2D` call to the Keras 2 API: `Conv2D(32, (3, 3), input_shape=(64, 64, 3..., activation=\"relu\")`\n",
      "  \n"
     ]
    }
   ],
   "source": [
    "# Step 1 - Convolution\n",
    "classifier.add(Convolution2D(32, 3, 3, input_shape = (64, 64, 3), activation = 'relu'))"
   ]
  },
  {
   "cell_type": "code",
   "execution_count": 4,
   "metadata": {},
   "outputs": [],
   "source": [
    "# Step 2 - Pooling\n",
    "classifier.add(MaxPooling2D(pool_size = (2, 2)))"
   ]
  },
  {
   "cell_type": "code",
   "execution_count": 5,
   "metadata": {},
   "outputs": [
    {
     "name": "stderr",
     "output_type": "stream",
     "text": [
      "C:\\Users\\default.LAPTOP-2CI68M4P\\AppData\\Local\\Continuum\\anaconda2\\envs\\py35\\lib\\site-packages\\ipykernel_launcher.py:2: UserWarning: Update your `Conv2D` call to the Keras 2 API: `Conv2D(32, (3, 3), activation=\"relu\")`\n",
      "  \n"
     ]
    }
   ],
   "source": [
    "# Adding a second convolutional layer\n",
    "classifier.add(Convolution2D(32, 3, 3, activation = 'relu'))\n",
    "classifier.add(MaxPooling2D(pool_size = (2, 2)))"
   ]
  },
  {
   "cell_type": "code",
   "execution_count": 6,
   "metadata": {},
   "outputs": [],
   "source": [
    "# Step 3 - Flattening\n",
    "classifier.add(Flatten())"
   ]
  },
  {
   "cell_type": "code",
   "execution_count": 7,
   "metadata": {},
   "outputs": [
    {
     "name": "stderr",
     "output_type": "stream",
     "text": [
      "C:\\Users\\default.LAPTOP-2CI68M4P\\AppData\\Local\\Continuum\\anaconda2\\envs\\py35\\lib\\site-packages\\ipykernel_launcher.py:2: UserWarning: Update your `Dense` call to the Keras 2 API: `Dense(units=128, activation=\"relu\")`\n",
      "  \n",
      "C:\\Users\\default.LAPTOP-2CI68M4P\\AppData\\Local\\Continuum\\anaconda2\\envs\\py35\\lib\\site-packages\\ipykernel_launcher.py:3: UserWarning: Update your `Dense` call to the Keras 2 API: `Dense(units=1, activation=\"sigmoid\")`\n",
      "  This is separate from the ipykernel package so we can avoid doing imports until\n"
     ]
    }
   ],
   "source": [
    "# Step 4 - Full connection\n",
    "classifier.add(Dense(output_dim = 128, activation = 'relu'))\n",
    "classifier.add(Dense(output_dim = 1, activation = 'sigmoid'))"
   ]
  },
  {
   "cell_type": "code",
   "execution_count": 8,
   "metadata": {},
   "outputs": [],
   "source": [
    "# Compiling the CNN\n",
    "classifier.compile(optimizer = 'adam', loss = 'binary_crossentropy', metrics = ['accuracy'])"
   ]
  },
  {
   "cell_type": "code",
   "execution_count": 9,
   "metadata": {},
   "outputs": [],
   "source": [
    "# Part 2 - Fitting the CNN to the images\n",
    "\n",
    "from keras.preprocessing.image import ImageDataGenerator"
   ]
  },
  {
   "cell_type": "code",
   "execution_count": 10,
   "metadata": {},
   "outputs": [],
   "source": [
    "train_datagen = ImageDataGenerator(rescale = 1./255,\n",
    "                                   shear_range = 0.2,\n",
    "                                   zoom_range = 0.2,\n",
    "                                   horizontal_flip = True)"
   ]
  },
  {
   "cell_type": "code",
   "execution_count": 11,
   "metadata": {},
   "outputs": [],
   "source": [
    "test_datagen = ImageDataGenerator(rescale = 1./255)"
   ]
  },
  {
   "cell_type": "code",
   "execution_count": 12,
   "metadata": {},
   "outputs": [
    {
     "name": "stdout",
     "output_type": "stream",
     "text": [
      "Found 8000 images belonging to 2 classes.\n",
      "Found 2000 images belonging to 2 classes.\n"
     ]
    }
   ],
   "source": [
    "training_set = train_datagen.flow_from_directory('dataset/training_set',\n",
    "                                                 target_size = (64, 64),\n",
    "                                                 batch_size = 32,\n",
    "                                                 class_mode = 'binary')\n",
    "\n",
    "test_set = test_datagen.flow_from_directory('dataset/test_set',\n",
    "                                            target_size = (64, 64),\n",
    "                                            batch_size = 32,\n",
    "                                            class_mode = 'binary')"
   ]
  },
  {
   "cell_type": "code",
   "execution_count": 13,
   "metadata": {
    "scrolled": true
   },
   "outputs": [
    {
     "name": "stderr",
     "output_type": "stream",
     "text": [
      "C:\\Users\\default.LAPTOP-2CI68M4P\\AppData\\Local\\Continuum\\anaconda2\\envs\\py35\\lib\\site-packages\\ipykernel_launcher.py:5: UserWarning: The semantics of the Keras 2 argument `steps_per_epoch` is not the same as the Keras 1 argument `samples_per_epoch`. `steps_per_epoch` is the number of batches to draw from the generator at each epoch. Basically steps_per_epoch = samples_per_epoch/batch_size. Similarly `nb_val_samples`->`validation_steps` and `val_samples`->`steps` arguments have changed. Update your method calls accordingly.\n",
      "  \"\"\"\n",
      "C:\\Users\\default.LAPTOP-2CI68M4P\\AppData\\Local\\Continuum\\anaconda2\\envs\\py35\\lib\\site-packages\\ipykernel_launcher.py:5: UserWarning: Update your `fit_generator` call to the Keras 2 API: `fit_generator(<keras.pre..., steps_per_epoch=250, validation_data=<keras.pre..., validation_steps=2000, epochs=25)`\n",
      "  \"\"\"\n"
     ]
    },
    {
     "name": "stdout",
     "output_type": "stream",
     "text": [
      "Epoch 1/25\n",
      "250/250 [==============================] - 276s 1s/step - loss: 0.6523 - acc: 0.6075 - val_loss: 0.6270 - val_acc: 0.6518\n",
      "Epoch 2/25\n",
      "250/250 [==============================] - 191s 764ms/step - loss: 0.5880 - acc: 0.6861 - val_loss: 0.5977 - val_acc: 0.6910\n",
      "Epoch 3/25\n",
      "250/250 [==============================] - 192s 768ms/step - loss: 0.5550 - acc: 0.7191 - val_loss: 0.5328 - val_acc: 0.7439\n",
      "Epoch 4/25\n",
      "250/250 [==============================] - 193s 770ms/step - loss: 0.5265 - acc: 0.7445 - val_loss: 0.4985 - val_acc: 0.7624\n",
      "Epoch 5/25\n",
      "250/250 [==============================] - 192s 767ms/step - loss: 0.5062 - acc: 0.7520 - val_loss: 0.4954 - val_acc: 0.7669\n",
      "Epoch 6/25\n",
      "250/250 [==============================] - 193s 770ms/step - loss: 0.4921 - acc: 0.7640 - val_loss: 0.5352 - val_acc: 0.7370\n",
      "Epoch 7/25\n",
      "250/250 [==============================] - 195s 780ms/step - loss: 0.4722 - acc: 0.7744 - val_loss: 0.4759 - val_acc: 0.7784\n",
      "Epoch 8/25\n",
      "250/250 [==============================] - 193s 771ms/step - loss: 0.4496 - acc: 0.7856 - val_loss: 0.4831 - val_acc: 0.7771\n",
      "Epoch 9/25\n",
      "250/250 [==============================] - 192s 770ms/step - loss: 0.4435 - acc: 0.7908 - val_loss: 0.4616 - val_acc: 0.7960\n",
      "Epoch 10/25\n",
      "250/250 [==============================] - 194s 775ms/step - loss: 0.4269 - acc: 0.8039 - val_loss: 0.4795 - val_acc: 0.7859\n",
      "Epoch 11/25\n",
      "250/250 [==============================] - 194s 775ms/step - loss: 0.4089 - acc: 0.8106 - val_loss: 0.4493 - val_acc: 0.8018\n",
      "Epoch 12/25\n",
      "250/250 [==============================] - 199s 794ms/step - loss: 0.4013 - acc: 0.8126 - val_loss: 0.4739 - val_acc: 0.7915\n",
      "Epoch 13/25\n",
      "250/250 [==============================] - 205s 822ms/step - loss: 0.3931 - acc: 0.8205 - val_loss: 0.5000 - val_acc: 0.7686\n",
      "Epoch 14/25\n",
      "250/250 [==============================] - 204s 815ms/step - loss: 0.3799 - acc: 0.8259 - val_loss: 0.4971 - val_acc: 0.7802\n",
      "Epoch 15/25\n",
      "250/250 [==============================] - 196s 786ms/step - loss: 0.3738 - acc: 0.8305 - val_loss: 0.4657 - val_acc: 0.7920\n",
      "Epoch 16/25\n",
      "250/250 [==============================] - 193s 771ms/step - loss: 0.3623 - acc: 0.8360 - val_loss: 0.4464 - val_acc: 0.8029\n",
      "Epoch 17/25\n",
      "250/250 [==============================] - 194s 776ms/step - loss: 0.3524 - acc: 0.8471 - val_loss: 0.4911 - val_acc: 0.7894\n",
      "Epoch 18/25\n",
      "250/250 [==============================] - 194s 778ms/step - loss: 0.3381 - acc: 0.8512 - val_loss: 0.4490 - val_acc: 0.8151\n",
      "Epoch 19/25\n",
      "250/250 [==============================] - 195s 779ms/step - loss: 0.3225 - acc: 0.8598 - val_loss: 0.4657 - val_acc: 0.8014\n",
      "Epoch 20/25\n",
      "250/250 [==============================] - 167s 668ms/step - loss: 0.3239 - acc: 0.8616 - val_loss: 0.4585 - val_acc: 0.8001\n",
      "Epoch 21/25\n",
      "250/250 [==============================] - 165s 660ms/step - loss: 0.3029 - acc: 0.8691 - val_loss: 0.5513 - val_acc: 0.7813\n",
      "Epoch 22/25\n",
      "250/250 [==============================] - 166s 664ms/step - loss: 0.2964 - acc: 0.8755 - val_loss: 0.4762 - val_acc: 0.8105\n",
      "Epoch 23/25\n",
      "250/250 [==============================] - 167s 668ms/step - loss: 0.2815 - acc: 0.8806 - val_loss: 0.5035 - val_acc: 0.7955\n",
      "Epoch 24/25\n",
      "250/250 [==============================] - 167s 669ms/step - loss: 0.2683 - acc: 0.8840 - val_loss: 0.5897 - val_acc: 0.7930\n",
      "Epoch 25/25\n",
      "250/250 [==============================] - 162s 650ms/step - loss: 0.2657 - acc: 0.8864 - val_loss: 0.4971 - val_acc: 0.8191\n"
     ]
    },
    {
     "data": {
      "text/plain": [
       "<keras.callbacks.History at 0x2ceb9ab7048>"
      ]
     },
     "execution_count": 13,
     "metadata": {},
     "output_type": "execute_result"
    }
   ],
   "source": [
    "classifier.fit_generator(training_set,\n",
    "                         samples_per_epoch = 8000,\n",
    "                         nb_epoch = 25,\n",
    "                         validation_data = test_set,\n",
    "                         nb_val_samples = 2000)"
   ]
  },
  {
   "cell_type": "code",
   "execution_count": null,
   "metadata": {},
   "outputs": [],
   "source": []
  },
  {
   "cell_type": "code",
   "execution_count": null,
   "metadata": {},
   "outputs": [],
   "source": []
  }
 ],
 "metadata": {
  "kernelspec": {
   "display_name": "Python 2",
   "language": "python",
   "name": "python2"
  },
  "language_info": {
   "codemirror_mode": {
    "name": "ipython",
    "version": 2
   },
   "file_extension": ".py",
   "mimetype": "text/x-python",
   "name": "python",
   "nbconvert_exporter": "python",
   "pygments_lexer": "ipython2",
   "version": "2.7.14"
  }
 },
 "nbformat": 4,
 "nbformat_minor": 2
}
